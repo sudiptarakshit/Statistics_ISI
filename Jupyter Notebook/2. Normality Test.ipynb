{
 "cells": [
  {
   "cell_type": "markdown",
   "id": "5061e9ff",
   "metadata": {},
   "source": [
    "# 2. Normality test"
   ]
  },
  {
   "cell_type": "markdown",
   "id": "430cc067",
   "metadata": {},
   "source": [
    "A methodology to to check wheather the characteristic under study is normally distributed or not.\n",
    "\n",
    "Two Methods:\n",
    "1. Quantile - Quantile (Q-Q) plot\n",
    "2. Shapiro - Wilk test\n",
    "\n",
    "Q-Q plot\n",
    "Plots ranked samples from the given distribution against a similar number of ranked quantiles taken from normal distribution.\n",
    "\n",
    "If sample normally distributed, straight line is obtained.\n",
    "\n",
    "Shapiro - Wilk test\n",
    "\n",
    "H0: Deviation from bell shape(Normality) = 0\n",
    "H1: Deviation from bell shape(Normality) != 0\n",
    "\n",
    "If p>0.05, H0 is not rejected, distribution is normal.\n"
   ]
  },
  {
   "cell_type": "code",
   "execution_count": 9,
   "id": "9e1414ff",
   "metadata": {},
   "outputs": [],
   "source": [
    "import pandas as pd\n",
    "from scipy import stats\n",
    "import matplotlib.pyplot as plt"
   ]
  },
  {
   "cell_type": "markdown",
   "id": "a61e5587",
   "metadata": {},
   "source": [
    "**Exercise 7**"
   ]
  },
  {
   "cell_type": "markdown",
   "id": "785ed504",
   "metadata": {},
   "source": [
    "The processing time of purchase orders is given in PO_Processing.csv. Is the processing time normally distributed?"
   ]
  },
  {
   "cell_type": "code",
   "execution_count": 5,
   "id": "71c86221",
   "metadata": {},
   "outputs": [],
   "source": [
    "#Import the dataset\n",
    "data7 = pd.read_csv('PO_Processing.csv')"
   ]
  },
  {
   "cell_type": "code",
   "execution_count": 6,
   "id": "2baf06af",
   "metadata": {},
   "outputs": [
    {
     "data": {
      "text/html": [
       "<div>\n",
       "<style scoped>\n",
       "    .dataframe tbody tr th:only-of-type {\n",
       "        vertical-align: middle;\n",
       "    }\n",
       "\n",
       "    .dataframe tbody tr th {\n",
       "        vertical-align: top;\n",
       "    }\n",
       "\n",
       "    .dataframe thead th {\n",
       "        text-align: right;\n",
       "    }\n",
       "</style>\n",
       "<table border=\"1\" class=\"dataframe\">\n",
       "  <thead>\n",
       "    <tr style=\"text-align: right;\">\n",
       "      <th></th>\n",
       "      <th>Processing_Time</th>\n",
       "    </tr>\n",
       "  </thead>\n",
       "  <tbody>\n",
       "    <tr>\n",
       "      <th>0</th>\n",
       "      <td>49</td>\n",
       "    </tr>\n",
       "    <tr>\n",
       "      <th>1</th>\n",
       "      <td>46</td>\n",
       "    </tr>\n",
       "    <tr>\n",
       "      <th>2</th>\n",
       "      <td>56</td>\n",
       "    </tr>\n",
       "    <tr>\n",
       "      <th>3</th>\n",
       "      <td>56</td>\n",
       "    </tr>\n",
       "    <tr>\n",
       "      <th>4</th>\n",
       "      <td>68</td>\n",
       "    </tr>\n",
       "  </tbody>\n",
       "</table>\n",
       "</div>"
      ],
      "text/plain": [
       "   Processing_Time\n",
       "0               49\n",
       "1               46\n",
       "2               56\n",
       "3               56\n",
       "4               68"
      ]
     },
     "execution_count": 6,
     "metadata": {},
     "output_type": "execute_result"
    }
   ],
   "source": [
    "#Explore the data\n",
    "data7.head()"
   ]
  },
  {
   "cell_type": "code",
   "execution_count": 7,
   "id": "1774eb8d",
   "metadata": {},
   "outputs": [],
   "source": [
    "#Copy the fields into new variables\n",
    "processtime = data7.iloc[:,0]"
   ]
  },
  {
   "cell_type": "code",
   "execution_count": 10,
   "id": "a6ee6204",
   "metadata": {},
   "outputs": [
    {
     "data": {
      "image/png": "[encoded data removed]",
      "text/plain": [
       "<Figure size 432x288 with 1 Axes>"
      ]
     },
     "metadata": {
      "needs_background": "light"
     },
     "output_type": "display_data"
    }
   ],
   "source": [
    "#Normal probability plot\n",
    "stats.probplot(processtime,plot = myplot)\n",
    "plt.title('Normal Probability Plot')\n",
    "plt.show()"
   ]
  },
  {
   "cell_type": "code",
   "execution_count": 11,
   "id": "7f2432a8",
   "metadata": {},
   "outputs": [],
   "source": [
    "# Normality test\n",
    "test7 = stats.normaltest(processtime)"
   ]
  },
  {
   "cell_type": "code",
   "execution_count": 12,
   "id": "1b05e023",
   "metadata": {},
   "outputs": [
    {
     "data": {
      "text/plain": [
       "0.3396526182225922"
      ]
     },
     "execution_count": 12,
     "metadata": {},
     "output_type": "execute_result"
    }
   ],
   "source": [
    "#Test statistic\n",
    "test7[0]"
   ]
  },
  {
   "cell_type": "code",
   "execution_count": 13,
   "id": "d877fa66",
   "metadata": {},
   "outputs": [
    {
     "data": {
      "text/plain": [
       "0.8438113662149449"
      ]
     },
     "execution_count": 13,
     "metadata": {},
     "output_type": "execute_result"
    }
   ],
   "source": [
    "# p value\n",
    "test7[1]"
   ]
  },
  {
   "cell_type": "markdown",
   "id": "1d5fdc24",
   "metadata": {},
   "source": [
    "**Exercise 8**"
   ]
  },
  {
   "cell_type": "markdown",
   "id": "d3fd1828",
   "metadata": {},
   "source": [
    "Time taken to respond customer complaints is given in Complaint_Response_Time.csv.  Check wheather complaint response time follows normal distribution?"
   ]
  },
  {
   "cell_type": "code",
   "execution_count": 14,
   "id": "3ec2de0d",
   "metadata": {},
   "outputs": [],
   "source": [
    "#Import the dataset\n",
    "data8 = pd.read_excel('Complaint_Response_Time.xlsx')"
   ]
  },
  {
   "cell_type": "code",
   "execution_count": 15,
   "id": "da0011fb",
   "metadata": {},
   "outputs": [
    {
     "data": {
      "text/html": [
       "<div>\n",
       "<style scoped>\n",
       "    .dataframe tbody tr th:only-of-type {\n",
       "        vertical-align: middle;\n",
       "    }\n",
       "\n",
       "    .dataframe tbody tr th {\n",
       "        vertical-align: top;\n",
       "    }\n",
       "\n",
       "    .dataframe thead th {\n",
       "        text-align: right;\n",
       "    }\n",
       "</style>\n",
       "<table border=\"1\" class=\"dataframe\">\n",
       "  <thead>\n",
       "    <tr style=\"text-align: right;\">\n",
       "      <th></th>\n",
       "      <th>Response Time</th>\n",
       "    </tr>\n",
       "  </thead>\n",
       "  <tbody>\n",
       "    <tr>\n",
       "      <th>0</th>\n",
       "      <td>24</td>\n",
       "    </tr>\n",
       "    <tr>\n",
       "      <th>1</th>\n",
       "      <td>31</td>\n",
       "    </tr>\n",
       "    <tr>\n",
       "      <th>2</th>\n",
       "      <td>29</td>\n",
       "    </tr>\n",
       "    <tr>\n",
       "      <th>3</th>\n",
       "      <td>26</td>\n",
       "    </tr>\n",
       "    <tr>\n",
       "      <th>4</th>\n",
       "      <td>28</td>\n",
       "    </tr>\n",
       "  </tbody>\n",
       "</table>\n",
       "</div>"
      ],
      "text/plain": [
       "   Response Time\n",
       "0             24\n",
       "1             31\n",
       "2             29\n",
       "3             26\n",
       "4             28"
      ]
     },
     "execution_count": 15,
     "metadata": {},
     "output_type": "execute_result"
    }
   ],
   "source": [
    "#Explore the data\n",
    "data8.head()"
   ]
  },
  {
   "cell_type": "code",
   "execution_count": 16,
   "id": "a02410ed",
   "metadata": {},
   "outputs": [],
   "source": [
    "#Copy the fields into new variables\n",
    "responsetime = data8.iloc[:,0]"
   ]
  },
  {
   "cell_type": "code",
   "execution_count": 17,
   "id": "c4ffac4f",
   "metadata": {},
   "outputs": [
    {
     "data": {
      "image/png": "[encoded data removed]",
      "text/plain": [
       "<Figure size 432x288 with 1 Axes>"
      ]
     },
     "metadata": {
      "needs_background": "light"
     },
     "output_type": "display_data"
    }
   ],
   "source": [
    "#Normal probability plot\n",
    "stats.probplot(responsetime,plot = myplot)\n",
    "plt.title('Normal Probability Plot')\n",
    "plt.show()"
   ]
  },
  {
   "cell_type": "code",
   "execution_count": 18,
   "id": "be21fdd5",
   "metadata": {},
   "outputs": [],
   "source": [
    "# Normality test\n",
    "test8 = stats.normaltest(responsetime)"
   ]
  },
  {
   "cell_type": "code",
   "execution_count": 19,
   "id": "db2c7736",
   "metadata": {},
   "outputs": [
    {
     "data": {
      "text/plain": [
       "0.12084856421325607"
      ]
     },
     "execution_count": 19,
     "metadata": {},
     "output_type": "execute_result"
    }
   ],
   "source": [
    "#Test statistic\n",
    "test8[0]"
   ]
  },
  {
   "cell_type": "code",
   "execution_count": 20,
   "id": "c5294bb2",
   "metadata": {},
   "outputs": [
    {
     "data": {
      "text/plain": [
       "0.9413650444980204"
      ]
     },
     "execution_count": 20,
     "metadata": {},
     "output_type": "execute_result"
    }
   ],
   "source": [
    "# p value\n",
    "test8[1]"
   ]
  },
  {
   "cell_type": "markdown",
   "id": "ef41e9c5",
   "metadata": {},
   "source": [
    "H0 can't be rejected. Complaint response time is normally distributed."
   ]
  },
  {
   "cell_type": "markdown",
   "id": "6dc78ef4",
   "metadata": {},
   "source": [
    "**Exercise 9**"
   ]
  },
  {
   "cell_type": "markdown",
   "id": "96da3cb0",
   "metadata": {},
   "source": [
    "The impurity level(in ppm) is routinely measured in an intermediate chemical process. The data is given in Impurity.csv. Check wheather impurity follows normal distribution?"
   ]
  },
  {
   "cell_type": "code",
   "execution_count": 26,
   "id": "513bd416",
   "metadata": {},
   "outputs": [],
   "source": [
    "#Import the dataset\n",
    "data9 = pd.read_csv('Impurity.csv')"
   ]
  },
  {
   "cell_type": "code",
   "execution_count": 27,
   "id": "5a46659e",
   "metadata": {},
   "outputs": [
    {
     "data": {
      "text/html": [
       "<div>\n",
       "<style scoped>\n",
       "    .dataframe tbody tr th:only-of-type {\n",
       "        vertical-align: middle;\n",
       "    }\n",
       "\n",
       "    .dataframe tbody tr th {\n",
       "        vertical-align: top;\n",
       "    }\n",
       "\n",
       "    .dataframe thead th {\n",
       "        text-align: right;\n",
       "    }\n",
       "</style>\n",
       "<table border=\"1\" class=\"dataframe\">\n",
       "  <thead>\n",
       "    <tr style=\"text-align: right;\">\n",
       "      <th></th>\n",
       "      <th>Impurity</th>\n",
       "    </tr>\n",
       "  </thead>\n",
       "  <tbody>\n",
       "    <tr>\n",
       "      <th>0</th>\n",
       "      <td>2.7</td>\n",
       "    </tr>\n",
       "    <tr>\n",
       "      <th>1</th>\n",
       "      <td>2.5</td>\n",
       "    </tr>\n",
       "    <tr>\n",
       "      <th>2</th>\n",
       "      <td>1.7</td>\n",
       "    </tr>\n",
       "    <tr>\n",
       "      <th>3</th>\n",
       "      <td>1.6</td>\n",
       "    </tr>\n",
       "    <tr>\n",
       "      <th>4</th>\n",
       "      <td>1.9</td>\n",
       "    </tr>\n",
       "  </tbody>\n",
       "</table>\n",
       "</div>"
      ],
      "text/plain": [
       "   Impurity\n",
       "0       2.7\n",
       "1       2.5\n",
       "2       1.7\n",
       "3       1.6\n",
       "4       1.9"
      ]
     },
     "execution_count": 27,
     "metadata": {},
     "output_type": "execute_result"
    }
   ],
   "source": [
    "#Explore the data\n",
    "data9.head()"
   ]
  },
  {
   "cell_type": "code",
   "execution_count": 24,
   "id": "9209cc95",
   "metadata": {},
   "outputs": [],
   "source": [
    "#Copy the fields into new variables\n",
    "impurity = data9.iloc[:,0]"
   ]
  },
  {
   "cell_type": "code",
   "execution_count": 25,
   "id": "491fd523",
   "metadata": {},
   "outputs": [
    {
     "data": {
      "image/png": "[encoded data removed]",
      "text/plain": [
       "<Figure size 432x288 with 1 Axes>"
      ]
     },
     "metadata": {
      "needs_background": "light"
     },
     "output_type": "display_data"
    }
   ],
   "source": [
    "#Normal probability plot\n",
    "stats.probplot(impurity,plot = myplot)\n",
    "plt.title('Normal Probability Plot')\n",
    "plt.show()"
   ]
  },
  {
   "cell_type": "code",
   "execution_count": null,
   "id": "757fdddd",
   "metadata": {},
   "outputs": [],
   "source": [
    "# Normality test\n",
    "mytest9 = stats.normaltest(impurity)"
   ]
  },
  {
   "cell_type": "code",
   "execution_count": null,
   "id": "ce06e46f",
   "metadata": {},
   "outputs": [],
   "source": [
    "#Test statistic\n",
    "mytest9[0]"
   ]
  },
  {
   "cell_type": "code",
   "execution_count": null,
   "id": "0dd4adab",
   "metadata": {},
   "outputs": [],
   "source": [
    "# p value\n",
    "mytest9[1]"
   ]
  },
  {
   "cell_type": "markdown",
   "id": "0a2cce4d",
   "metadata": {},
   "source": [
    "H0 can be rejected."
   ]
  }
 ],
 "metadata": {
  "kernelspec": {
   "display_name": "Python 3 (ipykernel)",
   "language": "python",
   "name": "python3"
  },
  "language_info": {
   "codemirror_mode": {
    "name": "ipython",
    "version": 3
   },
   "file_extension": ".py",
   "mimetype": "text/x-python",
   "name": "python",
   "nbconvert_exporter": "python",
   "pygments_lexer": "ipython3",
   "version": "3.9.12"
  }
 },
 "nbformat": 4,
 "nbformat_minor": 5
}
