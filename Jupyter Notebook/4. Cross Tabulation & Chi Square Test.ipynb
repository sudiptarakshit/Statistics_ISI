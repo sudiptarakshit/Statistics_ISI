{
 "cells": [
  {
   "cell_type": "markdown",
   "id": "c63b6d8c",
   "metadata": {},
   "source": [
    "## 4. Cross Tabulation"
   ]
  },
  {
   "cell_type": "markdown",
   "id": "cfdae34c",
   "metadata": {},
   "source": [
    "An approach to summarize and identify the relation between two or more categorical variables or parameters"
   ]
  },
  {
   "cell_type": "markdown",
   "id": "659b9d2d",
   "metadata": {},
   "source": [
    "Describes two variables simultaneously"
   ]
  },
  {
   "cell_type": "markdown",
   "id": "e16ff5d9",
   "metadata": {},
   "source": [
    "Expressed as two way table"
   ]
  },
  {
   "cell_type": "markdown",
   "id": "696829ec",
   "metadata": {},
   "source": [
    "Variables need to be categorical or grouped"
   ]
  },
  {
   "attachments": {
    "image.png": {
     "image/png": "[encoded data removed]"
    }
   },
   "cell_type": "markdown",
   "id": "38d1572f",
   "metadata": {},
   "source": [
    "\"\n",
    "\t\t\t\t\t![image.png](attachment:image.png)"
   ]
  },
  {
   "cell_type": "markdown",
   "id": "da6b3c42",
   "metadata": {},
   "source": [
    "**Example**\n",
    "An ITes company has collected the data from 116 employees on their response to the appraisal results, their gender, location and vintage. The data is given in Appraisal_Response file.\n",
    "\n",
    "    1. Does male and female differ in their response to appraisal?\n",
    "    2. Does employees in different locations differ in their response to appraisal?\n",
    "    3. Does employees with different vintages differe in their response to appraisal?"
   ]
  },
  {
   "cell_type": "code",
   "execution_count": 1,
   "id": "b5b3b757",
   "metadata": {},
   "outputs": [],
   "source": [
    "#Import packages\n",
    "import pandas as pd"
   ]
  },
  {
   "cell_type": "code",
   "execution_count": 2,
   "id": "111f4985",
   "metadata": {},
   "outputs": [],
   "source": [
    "#Load data\n",
    "data = pd.read_excel('Appraisal_Response.xlsx')"
   ]
  },
  {
   "cell_type": "code",
   "execution_count": 3,
   "id": "28844f0b",
   "metadata": {},
   "outputs": [
    {
     "data": {
      "text/html": [
       "<div>\n",
       "<style scoped>\n",
       "    .dataframe tbody tr th:only-of-type {\n",
       "        vertical-align: middle;\n",
       "    }\n",
       "\n",
       "    .dataframe tbody tr th {\n",
       "        vertical-align: top;\n",
       "    }\n",
       "\n",
       "    .dataframe thead th {\n",
       "        text-align: right;\n",
       "    }\n",
       "</style>\n",
       "<table border=\"1\" class=\"dataframe\">\n",
       "  <thead>\n",
       "    <tr style=\"text-align: right;\">\n",
       "      <th></th>\n",
       "      <th>SL No</th>\n",
       "      <th>Response</th>\n",
       "      <th>Gender</th>\n",
       "      <th>Location</th>\n",
       "      <th>Vintage</th>\n",
       "    </tr>\n",
       "  </thead>\n",
       "  <tbody>\n",
       "    <tr>\n",
       "      <th>0</th>\n",
       "      <td>1</td>\n",
       "      <td>1 - Disappointed</td>\n",
       "      <td>Male</td>\n",
       "      <td>Pune</td>\n",
       "      <td>12-24</td>\n",
       "    </tr>\n",
       "    <tr>\n",
       "      <th>1</th>\n",
       "      <td>2</td>\n",
       "      <td>3 - Happy</td>\n",
       "      <td>Female</td>\n",
       "      <td>Bangalore</td>\n",
       "      <td>0-12</td>\n",
       "    </tr>\n",
       "    <tr>\n",
       "      <th>2</th>\n",
       "      <td>3</td>\n",
       "      <td>2 - No Comments</td>\n",
       "      <td>Female</td>\n",
       "      <td>Bangalore</td>\n",
       "      <td>12-24</td>\n",
       "    </tr>\n",
       "    <tr>\n",
       "      <th>3</th>\n",
       "      <td>4</td>\n",
       "      <td>2 - No Comments</td>\n",
       "      <td>Female</td>\n",
       "      <td>Bangalore</td>\n",
       "      <td>12-24</td>\n",
       "    </tr>\n",
       "    <tr>\n",
       "      <th>4</th>\n",
       "      <td>5</td>\n",
       "      <td>2 - No Comments</td>\n",
       "      <td>Female</td>\n",
       "      <td>Pune</td>\n",
       "      <td>0-12</td>\n",
       "    </tr>\n",
       "  </tbody>\n",
       "</table>\n",
       "</div>"
      ],
      "text/plain": [
       "   SL No          Response  Gender   Location Vintage\n",
       "0      1  1 - Disappointed    Male       Pune   12-24\n",
       "1      2         3 - Happy  Female  Bangalore    0-12\n",
       "2      3   2 - No Comments  Female  Bangalore   12-24\n",
       "3      4   2 - No Comments  Female  Bangalore   12-24\n",
       "4      5   2 - No Comments  Female       Pune    0-12"
      ]
     },
     "execution_count": 3,
     "metadata": {},
     "output_type": "execute_result"
    }
   ],
   "source": [
    "#Explore the dataset\n",
    "data.head()"
   ]
  },
  {
   "cell_type": "code",
   "execution_count": 4,
   "id": "f7e15b67",
   "metadata": {},
   "outputs": [],
   "source": [
    "#Copy the fields into new variables\n",
    "response = data.Response\n",
    "gender = data.Gender\n",
    "location = data.Location\n",
    "vintage = data.Vintage"
   ]
  },
  {
   "cell_type": "code",
   "execution_count": 5,
   "id": "4f5c624f",
   "metadata": {},
   "outputs": [],
   "source": [
    "#Relation between Gender and Response\n",
    "table = pd.crosstab(index=gender,columns=response)"
   ]
  },
  {
   "cell_type": "code",
   "execution_count": 6,
   "id": "a297b813",
   "metadata": {},
   "outputs": [
    {
     "data": {
      "text/html": [
       "<div>\n",
       "<style scoped>\n",
       "    .dataframe tbody tr th:only-of-type {\n",
       "        vertical-align: middle;\n",
       "    }\n",
       "\n",
       "    .dataframe tbody tr th {\n",
       "        vertical-align: top;\n",
       "    }\n",
       "\n",
       "    .dataframe thead th {\n",
       "        text-align: right;\n",
       "    }\n",
       "</style>\n",
       "<table border=\"1\" class=\"dataframe\">\n",
       "  <thead>\n",
       "    <tr style=\"text-align: right;\">\n",
       "      <th>Response</th>\n",
       "      <th>1 - Disappointed</th>\n",
       "      <th>2 - No Comments</th>\n",
       "      <th>3 - Happy</th>\n",
       "    </tr>\n",
       "    <tr>\n",
       "      <th>Gender</th>\n",
       "      <th></th>\n",
       "      <th></th>\n",
       "      <th></th>\n",
       "    </tr>\n",
       "  </thead>\n",
       "  <tbody>\n",
       "    <tr>\n",
       "      <th>Female</th>\n",
       "      <td>12</td>\n",
       "      <td>12</td>\n",
       "      <td>36</td>\n",
       "    </tr>\n",
       "    <tr>\n",
       "      <th>Male</th>\n",
       "      <td>30</td>\n",
       "      <td>12</td>\n",
       "      <td>14</td>\n",
       "    </tr>\n",
       "  </tbody>\n",
       "</table>\n",
       "</div>"
      ],
      "text/plain": [
       "Response  1 - Disappointed  2 - No Comments  3 - Happy\n",
       "Gender                                                \n",
       "Female                  12               12         36\n",
       "Male                    30               12         14"
      ]
     },
     "execution_count": 6,
     "metadata": {},
     "output_type": "execute_result"
    }
   ],
   "source": [
    "table"
   ]
  },
  {
   "cell_type": "markdown",
   "id": "45e3235b",
   "metadata": {},
   "source": [
    "From the table it is visible that males are unhappy compared to females in appraisal."
   ]
  },
  {
   "cell_type": "markdown",
   "id": "a39124af",
   "metadata": {},
   "source": [
    "We can express the table as percentage"
   ]
  },
  {
   "cell_type": "code",
   "execution_count": 7,
   "id": "47badbb9",
   "metadata": {},
   "outputs": [
    {
     "data": {
      "text/plain": [
       "Response\n",
       "1 - Disappointed    42\n",
       "2 - No Comments     24\n",
       "3 - Happy           50\n",
       "dtype: int64"
      ]
     },
     "execution_count": 7,
     "metadata": {},
     "output_type": "execute_result"
    }
   ],
   "source": [
    "#Count the total number of values\n",
    "n = table.sum(axis=0)\n",
    "n"
   ]
  },
  {
   "cell_type": "code",
   "execution_count": 8,
   "id": "d4a580fd",
   "metadata": {},
   "outputs": [
    {
     "data": {
      "text/html": [
       "<div>\n",
       "<style scoped>\n",
       "    .dataframe tbody tr th:only-of-type {\n",
       "        vertical-align: middle;\n",
       "    }\n",
       "\n",
       "    .dataframe tbody tr th {\n",
       "        vertical-align: top;\n",
       "    }\n",
       "\n",
       "    .dataframe thead th {\n",
       "        text-align: right;\n",
       "    }\n",
       "</style>\n",
       "<table border=\"1\" class=\"dataframe\">\n",
       "  <thead>\n",
       "    <tr style=\"text-align: right;\">\n",
       "      <th>Response</th>\n",
       "      <th>1 - Disappointed</th>\n",
       "      <th>2 - No Comments</th>\n",
       "      <th>3 - Happy</th>\n",
       "    </tr>\n",
       "    <tr>\n",
       "      <th>Gender</th>\n",
       "      <th></th>\n",
       "      <th></th>\n",
       "      <th></th>\n",
       "    </tr>\n",
       "  </thead>\n",
       "  <tbody>\n",
       "    <tr>\n",
       "      <th>Female</th>\n",
       "      <td>28.57</td>\n",
       "      <td>50.0</td>\n",
       "      <td>72.0</td>\n",
       "    </tr>\n",
       "    <tr>\n",
       "      <th>Male</th>\n",
       "      <td>71.43</td>\n",
       "      <td>50.0</td>\n",
       "      <td>28.0</td>\n",
       "    </tr>\n",
       "  </tbody>\n",
       "</table>\n",
       "</div>"
      ],
      "text/plain": [
       "Response  1 - Disappointed  2 - No Comments  3 - Happy\n",
       "Gender                                                \n",
       "Female               28.57             50.0       72.0\n",
       "Male                 71.43             50.0       28.0"
      ]
     },
     "execution_count": 8,
     "metadata": {},
     "output_type": "execute_result"
    }
   ],
   "source": [
    "#Cross tabulation in %\n",
    "round(table/n*100,2)"
   ]
  },
  {
   "cell_type": "code",
   "execution_count": 9,
   "id": "7ae62977",
   "metadata": {},
   "outputs": [
    {
     "data": {
      "text/html": [
       "<div>\n",
       "<style scoped>\n",
       "    .dataframe tbody tr th:only-of-type {\n",
       "        vertical-align: middle;\n",
       "    }\n",
       "\n",
       "    .dataframe tbody tr th {\n",
       "        vertical-align: top;\n",
       "    }\n",
       "\n",
       "    .dataframe thead th {\n",
       "        text-align: right;\n",
       "    }\n",
       "</style>\n",
       "<table border=\"1\" class=\"dataframe\">\n",
       "  <thead>\n",
       "    <tr style=\"text-align: right;\">\n",
       "      <th>Response</th>\n",
       "      <th>1 - Disappointed</th>\n",
       "      <th>2 - No Comments</th>\n",
       "      <th>3 - Happy</th>\n",
       "    </tr>\n",
       "    <tr>\n",
       "      <th>Location</th>\n",
       "      <th></th>\n",
       "      <th></th>\n",
       "      <th></th>\n",
       "    </tr>\n",
       "  </thead>\n",
       "  <tbody>\n",
       "    <tr>\n",
       "      <th>Bangalore</th>\n",
       "      <td>20</td>\n",
       "      <td>12</td>\n",
       "      <td>23</td>\n",
       "    </tr>\n",
       "    <tr>\n",
       "      <th>Pune</th>\n",
       "      <td>22</td>\n",
       "      <td>12</td>\n",
       "      <td>27</td>\n",
       "    </tr>\n",
       "  </tbody>\n",
       "</table>\n",
       "</div>"
      ],
      "text/plain": [
       "Response   1 - Disappointed  2 - No Comments  3 - Happy\n",
       "Location                                               \n",
       "Bangalore                20               12         23\n",
       "Pune                     22               12         27"
      ]
     },
     "execution_count": 9,
     "metadata": {},
     "output_type": "execute_result"
    }
   ],
   "source": [
    "#Relation between Location and Response\n",
    "table = pd.crosstab(index=location,columns=response)\n",
    "table"
   ]
  },
  {
   "cell_type": "code",
   "execution_count": 10,
   "id": "69aab1f7",
   "metadata": {},
   "outputs": [
    {
     "data": {
      "text/html": [
       "<div>\n",
       "<style scoped>\n",
       "    .dataframe tbody tr th:only-of-type {\n",
       "        vertical-align: middle;\n",
       "    }\n",
       "\n",
       "    .dataframe tbody tr th {\n",
       "        vertical-align: top;\n",
       "    }\n",
       "\n",
       "    .dataframe thead th {\n",
       "        text-align: right;\n",
       "    }\n",
       "</style>\n",
       "<table border=\"1\" class=\"dataframe\">\n",
       "  <thead>\n",
       "    <tr style=\"text-align: right;\">\n",
       "      <th>Response</th>\n",
       "      <th>1 - Disappointed</th>\n",
       "      <th>2 - No Comments</th>\n",
       "      <th>3 - Happy</th>\n",
       "    </tr>\n",
       "    <tr>\n",
       "      <th>Location</th>\n",
       "      <th></th>\n",
       "      <th></th>\n",
       "      <th></th>\n",
       "    </tr>\n",
       "  </thead>\n",
       "  <tbody>\n",
       "    <tr>\n",
       "      <th>Bangalore</th>\n",
       "      <td>47.62</td>\n",
       "      <td>50.0</td>\n",
       "      <td>46.0</td>\n",
       "    </tr>\n",
       "    <tr>\n",
       "      <th>Pune</th>\n",
       "      <td>52.38</td>\n",
       "      <td>50.0</td>\n",
       "      <td>54.0</td>\n",
       "    </tr>\n",
       "  </tbody>\n",
       "</table>\n",
       "</div>"
      ],
      "text/plain": [
       "Response   1 - Disappointed  2 - No Comments  3 - Happy\n",
       "Location                                               \n",
       "Bangalore             47.62             50.0       46.0\n",
       "Pune                  52.38             50.0       54.0"
      ]
     },
     "execution_count": 10,
     "metadata": {},
     "output_type": "execute_result"
    }
   ],
   "source": [
    "#Cross tabulation in %\n",
    "round(table/n*100,2)"
   ]
  },
  {
   "cell_type": "markdown",
   "id": "01565c00",
   "metadata": {},
   "source": [
    "We find out that location does not play important role in happiness."
   ]
  },
  {
   "cell_type": "code",
   "execution_count": 11,
   "id": "731907ec",
   "metadata": {},
   "outputs": [
    {
     "data": {
      "text/html": [
       "<div>\n",
       "<style scoped>\n",
       "    .dataframe tbody tr th:only-of-type {\n",
       "        vertical-align: middle;\n",
       "    }\n",
       "\n",
       "    .dataframe tbody tr th {\n",
       "        vertical-align: top;\n",
       "    }\n",
       "\n",
       "    .dataframe thead th {\n",
       "        text-align: right;\n",
       "    }\n",
       "</style>\n",
       "<table border=\"1\" class=\"dataframe\">\n",
       "  <thead>\n",
       "    <tr style=\"text-align: right;\">\n",
       "      <th>Response</th>\n",
       "      <th>1 - Disappointed</th>\n",
       "      <th>2 - No Comments</th>\n",
       "      <th>3 - Happy</th>\n",
       "    </tr>\n",
       "    <tr>\n",
       "      <th>Vintage</th>\n",
       "      <th></th>\n",
       "      <th></th>\n",
       "      <th></th>\n",
       "    </tr>\n",
       "  </thead>\n",
       "  <tbody>\n",
       "    <tr>\n",
       "      <th>0-12</th>\n",
       "      <td>4</td>\n",
       "      <td>12</td>\n",
       "      <td>34</td>\n",
       "    </tr>\n",
       "    <tr>\n",
       "      <th>12-24</th>\n",
       "      <td>20</td>\n",
       "      <td>10</td>\n",
       "      <td>10</td>\n",
       "    </tr>\n",
       "    <tr>\n",
       "      <th>24 &amp; More</th>\n",
       "      <td>18</td>\n",
       "      <td>2</td>\n",
       "      <td>6</td>\n",
       "    </tr>\n",
       "  </tbody>\n",
       "</table>\n",
       "</div>"
      ],
      "text/plain": [
       "Response   1 - Disappointed  2 - No Comments  3 - Happy\n",
       "Vintage                                                \n",
       "0-12                      4               12         34\n",
       "12-24                    20               10         10\n",
       "24 & More                18                2          6"
      ]
     },
     "execution_count": 11,
     "metadata": {},
     "output_type": "execute_result"
    }
   ],
   "source": [
    "#Relation between Vintage and Response\n",
    "table = pd.crosstab(index=vintage, columns=response)\n",
    "table"
   ]
  },
  {
   "cell_type": "code",
   "execution_count": 12,
   "id": "da77d2e0",
   "metadata": {},
   "outputs": [
    {
     "data": {
      "text/html": [
       "<div>\n",
       "<style scoped>\n",
       "    .dataframe tbody tr th:only-of-type {\n",
       "        vertical-align: middle;\n",
       "    }\n",
       "\n",
       "    .dataframe tbody tr th {\n",
       "        vertical-align: top;\n",
       "    }\n",
       "\n",
       "    .dataframe thead th {\n",
       "        text-align: right;\n",
       "    }\n",
       "</style>\n",
       "<table border=\"1\" class=\"dataframe\">\n",
       "  <thead>\n",
       "    <tr style=\"text-align: right;\">\n",
       "      <th>Response</th>\n",
       "      <th>1 - Disappointed</th>\n",
       "      <th>2 - No Comments</th>\n",
       "      <th>3 - Happy</th>\n",
       "    </tr>\n",
       "    <tr>\n",
       "      <th>Vintage</th>\n",
       "      <th></th>\n",
       "      <th></th>\n",
       "      <th></th>\n",
       "    </tr>\n",
       "  </thead>\n",
       "  <tbody>\n",
       "    <tr>\n",
       "      <th>0-12</th>\n",
       "      <td>9.52</td>\n",
       "      <td>50.00</td>\n",
       "      <td>68.0</td>\n",
       "    </tr>\n",
       "    <tr>\n",
       "      <th>12-24</th>\n",
       "      <td>47.62</td>\n",
       "      <td>41.67</td>\n",
       "      <td>20.0</td>\n",
       "    </tr>\n",
       "    <tr>\n",
       "      <th>24 &amp; More</th>\n",
       "      <td>42.86</td>\n",
       "      <td>8.33</td>\n",
       "      <td>12.0</td>\n",
       "    </tr>\n",
       "  </tbody>\n",
       "</table>\n",
       "</div>"
      ],
      "text/plain": [
       "Response   1 - Disappointed  2 - No Comments  3 - Happy\n",
       "Vintage                                                \n",
       "0-12                   9.52            50.00       68.0\n",
       "12-24                 47.62            41.67       20.0\n",
       "24 & More             42.86             8.33       12.0"
      ]
     },
     "execution_count": 12,
     "metadata": {},
     "output_type": "execute_result"
    }
   ],
   "source": [
    "#Cross tabulation in %\n",
    "round(table/n*100,2)"
   ]
  },
  {
   "cell_type": "markdown",
   "id": "6b30ceef",
   "metadata": {},
   "source": [
    "we find out more vintage, more unhappy."
   ]
  },
  {
   "cell_type": "markdown",
   "id": "febb687e",
   "metadata": {},
   "source": [
    "## Chi-sq test"
   ]
  },
  {
   "cell_type": "markdown",
   "id": "508a6318",
   "metadata": {},
   "source": [
    "**Objective:**\n",
    "\n",
    "To test whether two categorical variables are related or not\n",
    "\n",
    "To check whether a metric is depends on another metric\n",
    "\n",
    "Check the independence in contingency table\n"
   ]
  },
  {
   "cell_type": "markdown",
   "id": "7f9d69c9",
   "metadata": {},
   "source": [
    "**Usage:**\n",
    "When both the variables ( x & y) need to be categorical (grouped)\n",
    "\n",
    "H0: Relation between x & y = 0 or x and y are independent \n",
    "\n",
    "H1: Relation between x & y != 0 or x and y are not independent\n",
    "\n",
    "If p value < 0.05, then H0 is rejected.\n",
    "\n"
   ]
  },
  {
   "cell_type": "markdown",
   "id": "9737021e",
   "metadata": {},
   "source": [
    "**Exercise**"
   ]
  },
  {
   "cell_type": "code",
   "execution_count": 13,
   "id": "9c49f0ba",
   "metadata": {},
   "outputs": [
    {
     "data": {
      "text/html": [
       "<div>\n",
       "<style scoped>\n",
       "    .dataframe tbody tr th:only-of-type {\n",
       "        vertical-align: middle;\n",
       "    }\n",
       "\n",
       "    .dataframe tbody tr th {\n",
       "        vertical-align: top;\n",
       "    }\n",
       "\n",
       "    .dataframe thead th {\n",
       "        text-align: right;\n",
       "    }\n",
       "</style>\n",
       "<table border=\"1\" class=\"dataframe\">\n",
       "  <thead>\n",
       "    <tr style=\"text-align: right;\">\n",
       "      <th>Response</th>\n",
       "      <th>1 - Disappointed</th>\n",
       "      <th>2 - No Comments</th>\n",
       "      <th>3 - Happy</th>\n",
       "    </tr>\n",
       "    <tr>\n",
       "      <th>Gender</th>\n",
       "      <th></th>\n",
       "      <th></th>\n",
       "      <th></th>\n",
       "    </tr>\n",
       "  </thead>\n",
       "  <tbody>\n",
       "    <tr>\n",
       "      <th>Female</th>\n",
       "      <td>12</td>\n",
       "      <td>12</td>\n",
       "      <td>36</td>\n",
       "    </tr>\n",
       "    <tr>\n",
       "      <th>Male</th>\n",
       "      <td>30</td>\n",
       "      <td>12</td>\n",
       "      <td>14</td>\n",
       "    </tr>\n",
       "  </tbody>\n",
       "</table>\n",
       "</div>"
      ],
      "text/plain": [
       "Response  1 - Disappointed  2 - No Comments  3 - Happy\n",
       "Gender                                                \n",
       "Female                  12               12         36\n",
       "Male                    30               12         14"
      ]
     },
     "execution_count": 13,
     "metadata": {},
     "output_type": "execute_result"
    }
   ],
   "source": [
    "#Relation between Gender and Response\n",
    "table = pd.crosstab(index=gender,columns=response)\n",
    "table"
   ]
  },
  {
   "cell_type": "code",
   "execution_count": 14,
   "id": "ceabd131",
   "metadata": {},
   "outputs": [],
   "source": [
    "#Import the packages\n",
    "from scipy import stats"
   ]
  },
  {
   "cell_type": "code",
   "execution_count": 15,
   "id": "c0e14dbb",
   "metadata": {},
   "outputs": [],
   "source": [
    "#Chi Square test\n",
    "test = stats.chi2_contingency(table)"
   ]
  },
  {
   "cell_type": "code",
   "execution_count": 16,
   "id": "a9ca7f2e",
   "metadata": {},
   "outputs": [],
   "source": [
    "# test statistic\n",
    "chi_sq = test[0]"
   ]
  },
  {
   "cell_type": "code",
   "execution_count": 17,
   "id": "0ba63509",
   "metadata": {},
   "outputs": [
    {
     "data": {
      "text/plain": [
       "17.276897959183675"
      ]
     },
     "execution_count": 17,
     "metadata": {},
     "output_type": "execute_result"
    }
   ],
   "source": [
    "chi_sq"
   ]
  },
  {
   "cell_type": "code",
   "execution_count": 18,
   "id": "6cabc736",
   "metadata": {},
   "outputs": [
    {
     "data": {
      "text/plain": [
       "0.0001771614703131788"
      ]
     },
     "execution_count": 18,
     "metadata": {},
     "output_type": "execute_result"
    }
   ],
   "source": [
    "# p value\n",
    "p_value = test[1]\n",
    "p_value"
   ]
  },
  {
   "cell_type": "code",
   "execution_count": 19,
   "id": "7f8d1e16",
   "metadata": {},
   "outputs": [
    {
     "data": {
      "text/html": [
       "<div>\n",
       "<style scoped>\n",
       "    .dataframe tbody tr th:only-of-type {\n",
       "        vertical-align: middle;\n",
       "    }\n",
       "\n",
       "    .dataframe tbody tr th {\n",
       "        vertical-align: top;\n",
       "    }\n",
       "\n",
       "    .dataframe thead th {\n",
       "        text-align: right;\n",
       "    }\n",
       "</style>\n",
       "<table border=\"1\" class=\"dataframe\">\n",
       "  <thead>\n",
       "    <tr style=\"text-align: right;\">\n",
       "      <th>Response</th>\n",
       "      <th>1 - Disappointed</th>\n",
       "      <th>2 - No Comments</th>\n",
       "      <th>3 - Happy</th>\n",
       "    </tr>\n",
       "    <tr>\n",
       "      <th>Location</th>\n",
       "      <th></th>\n",
       "      <th></th>\n",
       "      <th></th>\n",
       "    </tr>\n",
       "  </thead>\n",
       "  <tbody>\n",
       "    <tr>\n",
       "      <th>Bangalore</th>\n",
       "      <td>20</td>\n",
       "      <td>12</td>\n",
       "      <td>23</td>\n",
       "    </tr>\n",
       "    <tr>\n",
       "      <th>Pune</th>\n",
       "      <td>22</td>\n",
       "      <td>12</td>\n",
       "      <td>27</td>\n",
       "    </tr>\n",
       "  </tbody>\n",
       "</table>\n",
       "</div>"
      ],
      "text/plain": [
       "Response   1 - Disappointed  2 - No Comments  3 - Happy\n",
       "Location                                               \n",
       "Bangalore                20               12         23\n",
       "Pune                     22               12         27"
      ]
     },
     "execution_count": 19,
     "metadata": {},
     "output_type": "execute_result"
    }
   ],
   "source": [
    "#Relation between Location and Response\n",
    "table = pd.crosstab(index=location,columns=response)\n",
    "table"
   ]
  },
  {
   "cell_type": "code",
   "execution_count": 20,
   "id": "a91e9c20",
   "metadata": {},
   "outputs": [],
   "source": [
    "#Chi Square test\n",
    "test = stats.chi2_contingency(table)"
   ]
  },
  {
   "cell_type": "code",
   "execution_count": 21,
   "id": "17f1edd3",
   "metadata": {},
   "outputs": [],
   "source": [
    "# test statistic\n",
    "chi_sq = test[0]"
   ]
  },
  {
   "cell_type": "code",
   "execution_count": 22,
   "id": "33d62870",
   "metadata": {},
   "outputs": [
    {
     "data": {
      "text/plain": [
       "0.10517465048612613"
      ]
     },
     "execution_count": 22,
     "metadata": {},
     "output_type": "execute_result"
    }
   ],
   "source": [
    "chi_sq"
   ]
  },
  {
   "cell_type": "code",
   "execution_count": 23,
   "id": "ba7df27f",
   "metadata": {},
   "outputs": [
    {
     "data": {
      "text/plain": [
       "0.9487714657393166"
      ]
     },
     "execution_count": 23,
     "metadata": {},
     "output_type": "execute_result"
    }
   ],
   "source": [
    "# p value\n",
    "p_value = test[1]\n",
    "p_value"
   ]
  },
  {
   "cell_type": "code",
   "execution_count": 24,
   "id": "7458aebb",
   "metadata": {},
   "outputs": [
    {
     "data": {
      "text/html": [
       "<div>\n",
       "<style scoped>\n",
       "    .dataframe tbody tr th:only-of-type {\n",
       "        vertical-align: middle;\n",
       "    }\n",
       "\n",
       "    .dataframe tbody tr th {\n",
       "        vertical-align: top;\n",
       "    }\n",
       "\n",
       "    .dataframe thead th {\n",
       "        text-align: right;\n",
       "    }\n",
       "</style>\n",
       "<table border=\"1\" class=\"dataframe\">\n",
       "  <thead>\n",
       "    <tr style=\"text-align: right;\">\n",
       "      <th>Response</th>\n",
       "      <th>1 - Disappointed</th>\n",
       "      <th>2 - No Comments</th>\n",
       "      <th>3 - Happy</th>\n",
       "    </tr>\n",
       "    <tr>\n",
       "      <th>Vintage</th>\n",
       "      <th></th>\n",
       "      <th></th>\n",
       "      <th></th>\n",
       "    </tr>\n",
       "  </thead>\n",
       "  <tbody>\n",
       "    <tr>\n",
       "      <th>0-12</th>\n",
       "      <td>4</td>\n",
       "      <td>12</td>\n",
       "      <td>34</td>\n",
       "    </tr>\n",
       "    <tr>\n",
       "      <th>12-24</th>\n",
       "      <td>20</td>\n",
       "      <td>10</td>\n",
       "      <td>10</td>\n",
       "    </tr>\n",
       "    <tr>\n",
       "      <th>24 &amp; More</th>\n",
       "      <td>18</td>\n",
       "      <td>2</td>\n",
       "      <td>6</td>\n",
       "    </tr>\n",
       "  </tbody>\n",
       "</table>\n",
       "</div>"
      ],
      "text/plain": [
       "Response   1 - Disappointed  2 - No Comments  3 - Happy\n",
       "Vintage                                                \n",
       "0-12                      4               12         34\n",
       "12-24                    20               10         10\n",
       "24 & More                18                2          6"
      ]
     },
     "execution_count": 24,
     "metadata": {},
     "output_type": "execute_result"
    }
   ],
   "source": [
    "#Relation between Location and Response\n",
    "table = pd.crosstab(index=vintage,columns=response)\n",
    "table"
   ]
  },
  {
   "cell_type": "code",
   "execution_count": 25,
   "id": "78150d7b",
   "metadata": {},
   "outputs": [],
   "source": [
    "#Chi Square test\n",
    "test = stats.chi2_contingency(table)"
   ]
  },
  {
   "cell_type": "code",
   "execution_count": 26,
   "id": "58a9e777",
   "metadata": {},
   "outputs": [],
   "source": [
    "# test statistic\n",
    "chi_sq = test[0]"
   ]
  },
  {
   "cell_type": "code",
   "execution_count": 27,
   "id": "17c2483a",
   "metadata": {
    "scrolled": true
   },
   "outputs": [
    {
     "data": {
      "text/plain": [
       "36.31807032967033"
      ]
     },
     "execution_count": 27,
     "metadata": {},
     "output_type": "execute_result"
    }
   ],
   "source": [
    "chi_sq"
   ]
  },
  {
   "cell_type": "code",
   "execution_count": 28,
   "id": "4ceca092",
   "metadata": {},
   "outputs": [
    {
     "data": {
      "text/plain": [
       "0.0"
      ]
     },
     "execution_count": 28,
     "metadata": {},
     "output_type": "execute_result"
    }
   ],
   "source": [
    "# p value\n",
    "p_value = test[1]\n",
    "round(p_value,2)"
   ]
  }
 ],
 "metadata": {
  "kernelspec": {
   "display_name": "Python 3 (ipykernel)",
   "language": "python",
   "name": "python3"
  },
  "language_info": {
   "codemirror_mode": {
    "name": "ipython",
    "version": 3
   },
   "file_extension": ".py",
   "mimetype": "text/x-python",
   "name": "python",
   "nbconvert_exporter": "python",
   "pygments_lexer": "ipython3",
   "version": "3.9.12"
  }
 },
 "nbformat": 4,
 "nbformat_minor": 5
}
