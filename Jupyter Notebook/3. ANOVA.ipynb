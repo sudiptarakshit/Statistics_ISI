{
 "cells": [
  {
   "cell_type": "markdown",
   "id": "e8ca05eb",
   "metadata": {},
   "source": [
    "# 3. ANOVA"
   ]
  },
  {
   "attachments": {
    "image.png": {
     "image/png": "[encoded data removed]"
    }
   },
   "cell_type": "markdown",
   "id": "a3679f72",
   "metadata": {},
   "source": [
    "Analysis of variance is a test of means for two or more populations.\n",
    "\n",
    "Partitions of the total variability in the variable under study to different components.\n",
    "\n",
    "H0 = Mean1 = Mean2 = -----=Meank\n",
    "\n",
    "Reject H0 if p value <0.05\n",
    "\n",
    "Example: To study location of shelf on sales revenue.\n",
    "\n",
    "One way ANOVA:\n",
    "\n",
    "Factor, Level, Response\n",
    "\n",
    "Resonse = y variable\n",
    "\n",
    "Factor = x variable\n",
    "\n",
    "Level = Different values of features.\n",
    "\n",
    "Step1:\n",
    "\n",
    "    Calculate the sum, average, and number of response for each level of the factor.\n",
    "\n",
    "Step2:\n",
    "\n",
    "    Calculate the grand total(T)\n",
    "    T = Sum of all responses.\n",
    "Step3:\n",
    "    \n",
    "    Calculate the Total Number of Responses(N)\n",
    "Step4: \n",
    "    \n",
    "    Calculate the Correction factor(CF)\n",
    "    \n",
    "    CF = (Grand Total)^2/ Total Number of Responses = T^2/N\n",
    "    \n",
    "Step5:\n",
    "\n",
    "    Calculate Total Sum of Squares (TSS)\n",
    "    TSS = Sum of Squares of all the responses - CF\n",
    "    \n",
    "Step6:\n",
    "    \n",
    "    Calculate the Sum of Square of Factor (A)\n",
    "    SSa = A1^2/nA1 + A2^2/nA2 + A3^2/nA3 - CF\n",
    "Step7:\n",
    "\n",
    "    Calculate the Sum of Square of Error (SSe)\n",
    "    SSe = Total Sum of Squares - Sum of Square of Factors\n",
    "    SSe = TSS - SSa\n",
    "Step8:\n",
    "    \n",
    "    Calculate the Degree of Freedom (Df)\n",
    "    Total Df = Total Number of Responses - 1\n",
    "             = N -1\n",
    "             \n",
    "    Df of Factor\n",
    "        = Number of levels of Factor - 1\n",
    "        \n",
    "    Df of Error = Total Df - Df of factors\n",
    "    \n",
    "Anova Table:\t\t\t\t\t\t\n",
    "\t\t\t\t\t\t![image.png](attachment:image.png)\n",
    "    \n",
    "\n",
    "    \n",
    "MS = SS/DF\n",
    "\n",
    "F of a Factor = MS of Between / MS of within\n",
    "\n",
    "     F table = finv(probability, df of factor, df of error), probability = 0.05\n",
    "     p value = fdist(F, df of Factor, df of error)\n",
    "     \n",
    "If p value <0.05, then\n",
    "The factor has significant effect on the process output or response. That is, when the factor is changed from 1 level to another level, there will be significant change in the response.\n"
   ]
  },
  {
   "cell_type": "markdown",
   "id": "ab2abdef",
   "metadata": {},
   "source": [
    "**Exercise 10**"
   ]
  },
  {
   "cell_type": "code",
   "execution_count": 1,
   "id": "a4e6dc5a",
   "metadata": {},
   "outputs": [],
   "source": [
    "#import the packages\n",
    "import pandas as pd\n",
    "import matplotlib.pyplot as plt\n",
    "import seaborn as mysb\n",
    "from statsmodels.formula.api import ols\n",
    "from statsmodels.stats.anova import anova_lm"
   ]
  },
  {
   "cell_type": "code",
   "execution_count": 3,
   "id": "b3ecd329",
   "metadata": {},
   "outputs": [],
   "source": [
    "#Import the dataset\n",
    "data10 = mypd.read_excel('Anova_Coding_Ratio.xlsx')"
   ]
  },
  {
   "cell_type": "code",
   "execution_count": 4,
   "id": "78f2a3cd",
   "metadata": {},
   "outputs": [
    {
     "data": {
      "text/html": [
       "<div>\n",
       "<style scoped>\n",
       "    .dataframe tbody tr th:only-of-type {\n",
       "        vertical-align: middle;\n",
       "    }\n",
       "\n",
       "    .dataframe tbody tr th {\n",
       "        vertical-align: top;\n",
       "    }\n",
       "\n",
       "    .dataframe thead th {\n",
       "        text-align: right;\n",
       "    }\n",
       "</style>\n",
       "<table border=\"1\" class=\"dataframe\">\n",
       "  <thead>\n",
       "    <tr style=\"text-align: right;\">\n",
       "      <th></th>\n",
       "      <th>Technology</th>\n",
       "      <th>Coding_Ratio</th>\n",
       "    </tr>\n",
       "  </thead>\n",
       "  <tbody>\n",
       "    <tr>\n",
       "      <th>0</th>\n",
       "      <td>J2EE</td>\n",
       "      <td>1.34</td>\n",
       "    </tr>\n",
       "    <tr>\n",
       "      <th>1</th>\n",
       "      <td>J2EE</td>\n",
       "      <td>1.89</td>\n",
       "    </tr>\n",
       "    <tr>\n",
       "      <th>2</th>\n",
       "      <td>J2EE</td>\n",
       "      <td>1.35</td>\n",
       "    </tr>\n",
       "    <tr>\n",
       "      <th>3</th>\n",
       "      <td>J2EE</td>\n",
       "      <td>2.07</td>\n",
       "    </tr>\n",
       "    <tr>\n",
       "      <th>4</th>\n",
       "      <td>J2EE</td>\n",
       "      <td>2.41</td>\n",
       "    </tr>\n",
       "  </tbody>\n",
       "</table>\n",
       "</div>"
      ],
      "text/plain": [
       "  Technology  Coding_Ratio\n",
       "0       J2EE          1.34\n",
       "1       J2EE          1.89\n",
       "2       J2EE          1.35\n",
       "3       J2EE          2.07\n",
       "4       J2EE          2.41"
      ]
     },
     "execution_count": 4,
     "metadata": {},
     "output_type": "execute_result"
    }
   ],
   "source": [
    "#Explore the dataset\n",
    "data10.head()"
   ]
  },
  {
   "cell_type": "code",
   "execution_count": 7,
   "id": "a06162ae",
   "metadata": {},
   "outputs": [],
   "source": [
    "# Copying the fields to new variable\n",
    "technology = data10.Technology\n",
    "cod_ratio = data10.Coding_Ratio"
   ]
  },
  {
   "cell_type": "code",
   "execution_count": 8,
   "id": "ccc7fe88",
   "metadata": {},
   "outputs": [],
   "source": [
    "# Develop the regression model\n",
    "model10 = ols('cod_ratio~C(technology)',data10).fit() #C ensures that technology is categorical variable"
   ]
  },
  {
   "cell_type": "code",
   "execution_count": 9,
   "id": "fe8e8e00",
   "metadata": {},
   "outputs": [
    {
     "data": {
      "text/html": [
       "<div>\n",
       "<style scoped>\n",
       "    .dataframe tbody tr th:only-of-type {\n",
       "        vertical-align: middle;\n",
       "    }\n",
       "\n",
       "    .dataframe tbody tr th {\n",
       "        vertical-align: top;\n",
       "    }\n",
       "\n",
       "    .dataframe thead th {\n",
       "        text-align: right;\n",
       "    }\n",
       "</style>\n",
       "<table border=\"1\" class=\"dataframe\">\n",
       "  <thead>\n",
       "    <tr style=\"text-align: right;\">\n",
       "      <th></th>\n",
       "      <th>df</th>\n",
       "      <th>sum_sq</th>\n",
       "      <th>mean_sq</th>\n",
       "      <th>F</th>\n",
       "      <th>PR(&gt;F)</th>\n",
       "    </tr>\n",
       "  </thead>\n",
       "  <tbody>\n",
       "    <tr>\n",
       "      <th>C(technology)</th>\n",
       "      <td>2.0</td>\n",
       "      <td>27.157937</td>\n",
       "      <td>13.578969</td>\n",
       "      <td>14.411102</td>\n",
       "      <td>0.000322</td>\n",
       "    </tr>\n",
       "    <tr>\n",
       "      <th>Residual</th>\n",
       "      <td>15.0</td>\n",
       "      <td>14.133862</td>\n",
       "      <td>0.942257</td>\n",
       "      <td>NaN</td>\n",
       "      <td>NaN</td>\n",
       "    </tr>\n",
       "  </tbody>\n",
       "</table>\n",
       "</div>"
      ],
      "text/plain": [
       "                 df     sum_sq    mean_sq          F    PR(>F)\n",
       "C(technology)   2.0  27.157937  13.578969  14.411102  0.000322\n",
       "Residual       15.0  14.133862   0.942257        NaN       NaN"
      ]
     },
     "execution_count": 9,
     "metadata": {},
     "output_type": "execute_result"
    }
   ],
   "source": [
    "# Anova table\n",
    "anova_table = anova_lm(model10)\n",
    "anova_table"
   ]
  },
  {
   "cell_type": "markdown",
   "id": "8a75dfe3",
   "metadata": {},
   "source": [
    "p value <0.05. So, technology has influence on coding_ratio"
   ]
  },
  {
   "cell_type": "code",
   "execution_count": 10,
   "id": "a9628056",
   "metadata": {},
   "outputs": [
    {
     "data": {
      "text/plain": [
       "Technology\n",
       "C++             1.77250\n",
       "Informix 4GL    4.38625\n",
       "J2EE            2.02000\n",
       "Name: Coding_Ratio, dtype: float64"
      ]
     },
     "execution_count": 10,
     "metadata": {},
     "output_type": "execute_result"
    }
   ],
   "source": [
    "#Group wise average\n",
    "cod_ratio.groupby(technology).mean()"
   ]
  },
  {
   "cell_type": "code",
   "execution_count": 11,
   "id": "4a33d4f3",
   "metadata": {
    "scrolled": true
   },
   "outputs": [
    {
     "data": {
      "image/png": "[encoded data removed]",
      "text/plain": [
       "<Figure size 432x288 with 1 Axes>"
      ]
     },
     "metadata": {
      "needs_background": "light"
     },
     "output_type": "display_data"
    }
   ],
   "source": [
    "# Groupwise box plot\n",
    "mysb.boxplot(x = technology,y = cod_ratio)\n",
    "myplot.title('Average Response Boxplot')\n",
    "myplot.xlabel('technology')\n",
    "myplot.ylabel('coding_ratio')\n",
    "myplot.show()"
   ]
  },
  {
   "cell_type": "code",
   "execution_count": null,
   "id": "7872a69c",
   "metadata": {},
   "outputs": [],
   "source": []
  }
 ],
 "metadata": {
  "kernelspec": {
   "display_name": "Python 3 (ipykernel)",
   "language": "python",
   "name": "python3"
  },
  "language_info": {
   "codemirror_mode": {
    "name": "ipython",
    "version": 3
   },
   "file_extension": ".py",
   "mimetype": "text/x-python",
   "name": "python",
   "nbconvert_exporter": "python",
   "pygments_lexer": "ipython3",
   "version": "3.9.12"
  }
 },
 "nbformat": 4,
 "nbformat_minor": 5
}
