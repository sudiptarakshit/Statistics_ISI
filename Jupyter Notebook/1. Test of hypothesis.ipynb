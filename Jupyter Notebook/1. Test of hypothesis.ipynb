{
 "cells": [
  {
   "cell_type": "markdown",
   "id": "87d91825",
   "metadata": {},
   "source": [
    "## Test of Hypothesis"
   ]
  },
  {
   "cell_type": "markdown",
   "id": "5513edb6",
   "metadata": {},
   "source": [
    "In many situations it is required to accept or reject a statement or claim about some parameter. \n",
    "    \n",
    "    Ex1. The average cycle time is less than 24 hrs\n",
    "     \n",
    "\n",
    "\n",
    "The statement is called hypothesis.\n",
    "\n",
    "The procedure for decision making about the hypothesis is called hypothesis testing.\n",
    "\n",
    "\n",
    "Advantages\n",
    "\n",
    "1. Handles uncertaininty about decision making\n",
    "2. Minimizes subjectivity in decision making\n",
    "3. Helps to validate assumptions or verify conclusions\n",
    "\n",
    "\n",
    "Some commonly used hypothesis test:\n",
    "1. Checking mean equal to specified value (mu = mu0)\n",
    "2. Two means equal or not (mu1 = mu2)\n",
    "3. Two variance equal or not (sigma1<sup>2</sup> = sigma2<sup>2</sup>)\n",
    "4. Proportion equal to specified value (p = p<sub>0</sub>)\n",
    "5. Two proportions equal or not\n",
    "\n",
    "**Null Hypothesis:**\n",
    "A statement about the status quo.\n",
    "One of no difference or no effect\n",
    "H0\n",
    "\n",
    "Alternate Hypothesis:\n",
    "One in which some difference or effect is expected\n",
    "H1\n",
    "\n",
    "H0: Mean = 50\n",
    "H1: Mean != 50\n",
    "\n",
    "H0: Mean>=25\n",
    "H1: Mean<25\n",
    "\n",
    "H0: Mean<=100\n",
    "H1: Mean>100\n",
    "\n",
    "\n",
    "Not a correct approach.\n",
    "H0: Mean<100\n",
    "H1: Mean>100\n",
    "\n",
    "Null Hypothesis and alternate hypothesis should be mutually exclusive.\n",
    "\n",
    "More example:\n",
    "H0: %rejection = 1%\n",
    "H1: %rejection != 1%\n",
    "\n",
    "H0: The average cycle time <24 hrs\n",
    "H1: The average cycle time >=24 hrs"
   ]
  },
  {
   "cell_type": "markdown",
   "id": "5c0455b0",
   "metadata": {},
   "source": [
    "## 1. One sample t test"
   ]
  },
  {
   "cell_type": "markdown",
   "id": "3979709e",
   "metadata": {},
   "source": [
    "\n",
    "\n",
    "We do sample t test to test Mean = Specified Value (mu = mu0)\n",
    "\n",
    "Test statistic t0 = (xbar - specified value)/(SD/sqrt n)\n",
    "\n",
    "Test statistc close to 0 conclude Mean = Specified Value (mu = mu0)\n",
    "\n",
    "Test Static follows t distribution\n",
    "\n",
    "If t0 close to 0, p value >0.05\n",
    "\n",
    "If t0 not close to 0, p value will be small.\n",
    "\n",
    "If p value high(p>0.05), we conclude to close to 0\n",
    "Mean = Specified Value (mu = mu0)\n",
    "H0 is not rejected.\n"
   ]
  },
  {
   "cell_type": "code",
   "execution_count": 2,
   "id": "28efca53",
   "metadata": {},
   "outputs": [],
   "source": [
    "#Import packages\n",
    "import pandas as pd\n",
    "from scipy import stats"
   ]
  },
  {
   "cell_type": "markdown",
   "id": "5895a03f",
   "metadata": {},
   "source": [
    "**Exercise1**\n",
    "\n",
    "A company claims that on average it takes only 40 hours to process any purchase order. Based on the data can you validate the claim? dataset: PO_Processing.csv"
   ]
  },
  {
   "cell_type": "code",
   "execution_count": 3,
   "id": "51418c06",
   "metadata": {},
   "outputs": [],
   "source": [
    "#Import the dataset\n",
    "data1 = pd.read_csv('PO_Processing.csv')"
   ]
  },
  {
   "cell_type": "code",
   "execution_count": 4,
   "id": "a5c0444c",
   "metadata": {},
   "outputs": [
    {
     "data": {
      "text/html": [
       "<div>\n",
       "<style scoped>\n",
       "    .dataframe tbody tr th:only-of-type {\n",
       "        vertical-align: middle;\n",
       "    }\n",
       "\n",
       "    .dataframe tbody tr th {\n",
       "        vertical-align: top;\n",
       "    }\n",
       "\n",
       "    .dataframe thead th {\n",
       "        text-align: right;\n",
       "    }\n",
       "</style>\n",
       "<table border=\"1\" class=\"dataframe\">\n",
       "  <thead>\n",
       "    <tr style=\"text-align: right;\">\n",
       "      <th></th>\n",
       "      <th>Processing_Time</th>\n",
       "    </tr>\n",
       "  </thead>\n",
       "  <tbody>\n",
       "    <tr>\n",
       "      <th>0</th>\n",
       "      <td>49</td>\n",
       "    </tr>\n",
       "    <tr>\n",
       "      <th>1</th>\n",
       "      <td>46</td>\n",
       "    </tr>\n",
       "    <tr>\n",
       "      <th>2</th>\n",
       "      <td>56</td>\n",
       "    </tr>\n",
       "    <tr>\n",
       "      <th>3</th>\n",
       "      <td>56</td>\n",
       "    </tr>\n",
       "    <tr>\n",
       "      <th>4</th>\n",
       "      <td>68</td>\n",
       "    </tr>\n",
       "  </tbody>\n",
       "</table>\n",
       "</div>"
      ],
      "text/plain": [
       "   Processing_Time\n",
       "0               49\n",
       "1               46\n",
       "2               56\n",
       "3               56\n",
       "4               68"
      ]
     },
     "execution_count": 4,
     "metadata": {},
     "output_type": "execute_result"
    }
   ],
   "source": [
    "#Explore the data\n",
    "data1.head()"
   ]
  },
  {
   "cell_type": "code",
   "execution_count": 5,
   "id": "ba38e839",
   "metadata": {},
   "outputs": [
    {
     "name": "stdout",
     "output_type": "stream",
     "text": [
      "<class 'pandas.core.frame.DataFrame'>\n",
      "RangeIndex: 100 entries, 0 to 99\n",
      "Data columns (total 1 columns):\n",
      " #   Column           Non-Null Count  Dtype\n",
      "---  ------           --------------  -----\n",
      " 0   Processing_Time  100 non-null    int64\n",
      "dtypes: int64(1)\n",
      "memory usage: 928.0 bytes\n"
     ]
    }
   ],
   "source": [
    "data1.info()"
   ]
  },
  {
   "cell_type": "markdown",
   "id": "359ae8b1",
   "metadata": {},
   "source": [
    "We want to test if mean is 40 hrs\\\n",
    "H0: Mean = 40\\\n",
    "H1: Mean != 40"
   ]
  },
  {
   "cell_type": "code",
   "execution_count": 6,
   "id": "7d7bd59c",
   "metadata": {},
   "outputs": [],
   "source": [
    "#We have only one column. We copy the required field to new variable \n",
    "pt1 = data1.Processing_Time"
   ]
  },
  {
   "cell_type": "code",
   "execution_count": 7,
   "id": "93aeebbd",
   "metadata": {},
   "outputs": [],
   "source": [
    "# 1 sample t test\n",
    "mytest1 = stats.ttest_1samp(pt1,40)"
   ]
  },
  {
   "cell_type": "code",
   "execution_count": 8,
   "id": "acf75fd7",
   "metadata": {},
   "outputs": [],
   "source": [
    "# Test Statistic\n",
    "t1 = mytest1[0]"
   ]
  },
  {
   "cell_type": "code",
   "execution_count": 9,
   "id": "472615e4",
   "metadata": {},
   "outputs": [
    {
     "data": {
      "text/plain": [
       "3.7"
      ]
     },
     "execution_count": 9,
     "metadata": {},
     "output_type": "execute_result"
    }
   ],
   "source": [
    "round(t1,2)"
   ]
  },
  {
   "cell_type": "code",
   "execution_count": 37,
   "id": "809115c9",
   "metadata": {},
   "outputs": [],
   "source": [
    "# P value\n",
    "p_value1 = mytest1[1]"
   ]
  },
  {
   "cell_type": "code",
   "execution_count": 38,
   "id": "b38def52",
   "metadata": {},
   "outputs": [
    {
     "data": {
      "text/plain": [
       "0.0004"
      ]
     },
     "execution_count": 38,
     "metadata": {},
     "output_type": "execute_result"
    }
   ],
   "source": [
    "round(p_value1,4)"
   ]
  },
  {
   "cell_type": "markdown",
   "id": "9f0af07a",
   "metadata": {},
   "source": [
    "H0 is rejected as p value less than 0.05"
   ]
  },
  {
   "cell_type": "markdown",
   "id": "76b5a445",
   "metadata": {},
   "source": [
    "**Exercise2**"
   ]
  },
  {
   "cell_type": "markdown",
   "id": "17c6bd67",
   "metadata": {},
   "source": [
    "A computer manufacturing company claims that on average it will respond to complaint lodged by customers from anywhere in the world within 24 hrs. Based on the data, validate the claim? The data is given in Complaint_Response_Time.xlsx"
   ]
  },
  {
   "cell_type": "code",
   "execution_count": 11,
   "id": "4ae2898c",
   "metadata": {},
   "outputs": [],
   "source": [
    "#Import the dataset\n",
    "data2 = pd.read_excel('Complaint_Response_Time.xlsx')"
   ]
  },
  {
   "cell_type": "code",
   "execution_count": 12,
   "id": "a47bc2d1",
   "metadata": {},
   "outputs": [
    {
     "data": {
      "text/html": [
       "<div>\n",
       "<style scoped>\n",
       "    .dataframe tbody tr th:only-of-type {\n",
       "        vertical-align: middle;\n",
       "    }\n",
       "\n",
       "    .dataframe tbody tr th {\n",
       "        vertical-align: top;\n",
       "    }\n",
       "\n",
       "    .dataframe thead th {\n",
       "        text-align: right;\n",
       "    }\n",
       "</style>\n",
       "<table border=\"1\" class=\"dataframe\">\n",
       "  <thead>\n",
       "    <tr style=\"text-align: right;\">\n",
       "      <th></th>\n",
       "      <th>Response Time</th>\n",
       "    </tr>\n",
       "  </thead>\n",
       "  <tbody>\n",
       "    <tr>\n",
       "      <th>0</th>\n",
       "      <td>24</td>\n",
       "    </tr>\n",
       "    <tr>\n",
       "      <th>1</th>\n",
       "      <td>31</td>\n",
       "    </tr>\n",
       "    <tr>\n",
       "      <th>2</th>\n",
       "      <td>29</td>\n",
       "    </tr>\n",
       "    <tr>\n",
       "      <th>3</th>\n",
       "      <td>26</td>\n",
       "    </tr>\n",
       "    <tr>\n",
       "      <th>4</th>\n",
       "      <td>28</td>\n",
       "    </tr>\n",
       "  </tbody>\n",
       "</table>\n",
       "</div>"
      ],
      "text/plain": [
       "   Response Time\n",
       "0             24\n",
       "1             31\n",
       "2             29\n",
       "3             26\n",
       "4             28"
      ]
     },
     "execution_count": 12,
     "metadata": {},
     "output_type": "execute_result"
    }
   ],
   "source": [
    "#Explore the data\n",
    "data2.head()"
   ]
  },
  {
   "cell_type": "code",
   "execution_count": 13,
   "id": "be1c12b9",
   "metadata": {},
   "outputs": [
    {
     "name": "stdout",
     "output_type": "stream",
     "text": [
      "<class 'pandas.core.frame.DataFrame'>\n",
      "RangeIndex: 30 entries, 0 to 29\n",
      "Data columns (total 1 columns):\n",
      " #   Column         Non-Null Count  Dtype\n",
      "---  ------         --------------  -----\n",
      " 0   Response Time  30 non-null     int64\n",
      "dtypes: int64(1)\n",
      "memory usage: 368.0 bytes\n"
     ]
    }
   ],
   "source": [
    "data2.info()"
   ]
  },
  {
   "cell_type": "code",
   "execution_count": 14,
   "id": "469b7062",
   "metadata": {},
   "outputs": [],
   "source": [
    "#We have only one column. We copy the required field to new variable \n",
    "responsetime2 = mydata2['Response Time']"
   ]
  },
  {
   "cell_type": "code",
   "execution_count": 15,
   "id": "4b73ba00",
   "metadata": {},
   "outputs": [],
   "source": [
    " # 1 sample t test\n",
    "test2= stats.ttest_1samp(responsetime2,24)"
   ]
  },
  {
   "cell_type": "code",
   "execution_count": 16,
   "id": "361bc6e5",
   "metadata": {},
   "outputs": [],
   "source": [
    "# Test Statistic\n",
    "t2 = test2[0]"
   ]
  },
  {
   "cell_type": "code",
   "execution_count": 17,
   "id": "faa0806b",
   "metadata": {},
   "outputs": [
    {
     "data": {
      "text/plain": [
       "6.917"
      ]
     },
     "execution_count": 17,
     "metadata": {},
     "output_type": "execute_result"
    }
   ],
   "source": [
    "round(t2,3)"
   ]
  },
  {
   "cell_type": "code",
   "execution_count": 18,
   "id": "af051920",
   "metadata": {},
   "outputs": [],
   "source": [
    "# P value\n",
    "p_value2 = test2[1]"
   ]
  },
  {
   "cell_type": "code",
   "execution_count": 19,
   "id": "c2d22707",
   "metadata": {},
   "outputs": [
    {
     "data": {
      "text/plain": [
       "0.0"
      ]
     },
     "execution_count": 19,
     "metadata": {},
     "output_type": "execute_result"
    }
   ],
   "source": [
    "round(p_value2,5)"
   ]
  },
  {
   "cell_type": "markdown",
   "id": "35ee0064",
   "metadata": {},
   "source": [
    "We see p value <0.05. So, H0 is rejected.\n"
   ]
  },
  {
   "cell_type": "markdown",
   "id": "a5e454cf",
   "metadata": {},
   "source": [
    "## 2. Two sample t test"
   ]
  },
  {
   "attachments": {
    "image.png": {
     "image/png": "[encoded data removed]"
    }
   },
   "cell_type": "markdown",
   "id": "63291a69",
   "metadata": {},
   "source": [
    "Null Hypothesis H0: Mean1 = Mean2 (mu1 = mu2)  \n",
    "\n",
    "Alternate Hypothesis H1: Mean1 != Mean2 (mu1 != mu2)\n",
    "\n",
    "\n",
    "![image.png](attachment:image.png)\n",
    "\n",
    "Method:\n",
    "\n",
    "Calculate both sample means xbar1 and xbar2\n",
    "\n",
    "Calculate SD1 and SD2\n",
    "\n",
    "Comapare xbar1 and xbar2\n",
    "\n",
    "xbar1 - xbar2 = 0\n",
    "\n",
    "Calculate test statistic t0 by dividing (xbar1- xbar2) by a function of SD1 and SD2\n",
    "\n",
    "t0 = (xbar1 - xbar2)/(Sp * sqrt(n1^-1 + n2^-1))\n",
    "\n",
    "We calculate p value from t distribution\n",
    "\n",
    "If p>0.05, H0: Mean1 = Mean2 is not rejected.\n",
    "\n",
    "\n",
    "\n",
    " \n"
   ]
  },
  {
   "cell_type": "markdown",
   "id": "b7c49d9f",
   "metadata": {},
   "source": [
    "**Example3**"
   ]
  },
  {
   "cell_type": "markdown",
   "id": "6b573aaa",
   "metadata": {},
   "source": [
    "A supermarket chain has introduced a promotional activity in its selected outlets in the city to increase its sales volume. Based on the data given, check wheather promotional activity resulted in increasing the sales. The data is given in Sales_Promotion.csv"
   ]
  },
  {
   "cell_type": "markdown",
   "id": "e63fc9cc",
   "metadata": {},
   "source": [
    "H0: Mean sales outlet1 = Mean sales outlet2\n",
    "\n",
    "H1: Mean sales outlet1 != Mean sales outlet2"
   ]
  },
  {
   "cell_type": "code",
   "execution_count": 21,
   "id": "69d410b8",
   "metadata": {},
   "outputs": [],
   "source": [
    "#Import the dataset\n",
    "data3 = pd.read_csv('Sales_Promotion.csv')"
   ]
  },
  {
   "cell_type": "code",
   "execution_count": 22,
   "id": "9bbef2ae",
   "metadata": {},
   "outputs": [
    {
     "name": "stdout",
     "output_type": "stream",
     "text": [
      "<class 'pandas.core.frame.DataFrame'>\n",
      "RangeIndex: 12 entries, 0 to 11\n",
      "Data columns (total 2 columns):\n",
      " #   Column      Non-Null Count  Dtype\n",
      "---  ------      --------------  -----\n",
      " 0   Sales_Out1  12 non-null     int64\n",
      " 1   Sales_Out2  12 non-null     int64\n",
      "dtypes: int64(2)\n",
      "memory usage: 320.0 bytes\n"
     ]
    }
   ],
   "source": [
    "#Check the info of dataset\n",
    "data3.info()"
   ]
  },
  {
   "cell_type": "code",
   "execution_count": 23,
   "id": "a7434223",
   "metadata": {},
   "outputs": [
    {
     "data": {
      "text/html": [
       "<div>\n",
       "<style scoped>\n",
       "    .dataframe tbody tr th:only-of-type {\n",
       "        vertical-align: middle;\n",
       "    }\n",
       "\n",
       "    .dataframe tbody tr th {\n",
       "        vertical-align: top;\n",
       "    }\n",
       "\n",
       "    .dataframe thead th {\n",
       "        text-align: right;\n",
       "    }\n",
       "</style>\n",
       "<table border=\"1\" class=\"dataframe\">\n",
       "  <thead>\n",
       "    <tr style=\"text-align: right;\">\n",
       "      <th></th>\n",
       "      <th>Sales_Out1</th>\n",
       "      <th>Sales_Out2</th>\n",
       "    </tr>\n",
       "  </thead>\n",
       "  <tbody>\n",
       "    <tr>\n",
       "      <th>0</th>\n",
       "      <td>1217</td>\n",
       "      <td>1731</td>\n",
       "    </tr>\n",
       "    <tr>\n",
       "      <th>1</th>\n",
       "      <td>1416</td>\n",
       "      <td>1420</td>\n",
       "    </tr>\n",
       "    <tr>\n",
       "      <th>2</th>\n",
       "      <td>1381</td>\n",
       "      <td>1065</td>\n",
       "    </tr>\n",
       "    <tr>\n",
       "      <th>3</th>\n",
       "      <td>1413</td>\n",
       "      <td>1612</td>\n",
       "    </tr>\n",
       "    <tr>\n",
       "      <th>4</th>\n",
       "      <td>1800</td>\n",
       "      <td>1361</td>\n",
       "    </tr>\n",
       "  </tbody>\n",
       "</table>\n",
       "</div>"
      ],
      "text/plain": [
       "   Sales_Out1  Sales_Out2\n",
       "0        1217        1731\n",
       "1        1416        1420\n",
       "2        1381        1065\n",
       "3        1413        1612\n",
       "4        1800        1361"
      ]
     },
     "execution_count": 23,
     "metadata": {},
     "output_type": "execute_result"
    }
   ],
   "source": [
    "# Explore the dataset\n",
    "data3.head()"
   ]
  },
  {
   "cell_type": "markdown",
   "id": "42833b4a",
   "metadata": {},
   "source": [
    "We copy the required fields to new variable.\n"
   ]
  },
  {
   "cell_type": "code",
   "execution_count": 25,
   "id": "e98145d1",
   "metadata": {},
   "outputs": [],
   "source": [
    "sales1 = data3['Sales_Out1']\n",
    "sales2 = data3['Sales_Out2']"
   ]
  },
  {
   "cell_type": "code",
   "execution_count": 27,
   "id": "f0b4d7a2",
   "metadata": {},
   "outputs": [],
   "source": [
    "# We perform t test\n",
    "test3 = stats.ttest_ind(sales1,sales2)"
   ]
  },
  {
   "cell_type": "code",
   "execution_count": 28,
   "id": "7b06db4e",
   "metadata": {},
   "outputs": [
    {
     "data": {
      "text/plain": [
       "0.9625184533861653"
      ]
     },
     "execution_count": 28,
     "metadata": {},
     "output_type": "execute_result"
    }
   ],
   "source": [
    "# test statistic\n",
    "test3[0]"
   ]
  },
  {
   "cell_type": "code",
   "execution_count": 29,
   "id": "b620c208",
   "metadata": {},
   "outputs": [
    {
     "data": {
      "text/plain": [
       "0.3462502310190172"
      ]
     },
     "execution_count": 29,
     "metadata": {},
     "output_type": "execute_result"
    }
   ],
   "source": [
    "# p value\n",
    "test3[1]"
   ]
  },
  {
   "cell_type": "markdown",
   "id": "035f8957",
   "metadata": {},
   "source": [
    "As p value >0.05 we can't reject the Null Hypothesis."
   ]
  },
  {
   "cell_type": "markdown",
   "id": "118813b2",
   "metadata": {},
   "source": [
    "**Example4**"
   ]
  },
  {
   "cell_type": "markdown",
   "id": "d7c0b483",
   "metadata": {},
   "source": [
    "A BPO company has developed a new method for better utilization of resources. Observations on utilization from both methods are given below. Check wheather the mean utilization of both the methods are same or not?"
   ]
  },
  {
   "cell_type": "markdown",
   "id": "6e26fdfc",
   "metadata": {},
   "source": [
    "H0: Mean of old utilization = Mean of new utilization\n",
    "\n",
    "H1: Mean of old utilization != Mean of new utilization"
   ]
  },
  {
   "cell_type": "code",
   "execution_count": 32,
   "id": "a5a84cff",
   "metadata": {},
   "outputs": [],
   "source": [
    "#Import the dataset\n",
    "data4 = pd.read_csv('Utilization.csv')"
   ]
  },
  {
   "cell_type": "code",
   "execution_count": 33,
   "id": "f061195e",
   "metadata": {},
   "outputs": [
    {
     "data": {
      "text/html": [
       "<div>\n",
       "<style scoped>\n",
       "    .dataframe tbody tr th:only-of-type {\n",
       "        vertical-align: middle;\n",
       "    }\n",
       "\n",
       "    .dataframe tbody tr th {\n",
       "        vertical-align: top;\n",
       "    }\n",
       "\n",
       "    .dataframe thead th {\n",
       "        text-align: right;\n",
       "    }\n",
       "</style>\n",
       "<table border=\"1\" class=\"dataframe\">\n",
       "  <thead>\n",
       "    <tr style=\"text-align: right;\">\n",
       "      <th></th>\n",
       "      <th>Old</th>\n",
       "      <th>New</th>\n",
       "    </tr>\n",
       "  </thead>\n",
       "  <tbody>\n",
       "    <tr>\n",
       "      <th>0</th>\n",
       "      <td>89.5</td>\n",
       "      <td>89.5</td>\n",
       "    </tr>\n",
       "    <tr>\n",
       "      <th>1</th>\n",
       "      <td>90.0</td>\n",
       "      <td>91.5</td>\n",
       "    </tr>\n",
       "    <tr>\n",
       "      <th>2</th>\n",
       "      <td>91.0</td>\n",
       "      <td>91.0</td>\n",
       "    </tr>\n",
       "    <tr>\n",
       "      <th>3</th>\n",
       "      <td>91.5</td>\n",
       "      <td>89.0</td>\n",
       "    </tr>\n",
       "    <tr>\n",
       "      <th>4</th>\n",
       "      <td>92.5</td>\n",
       "      <td>91.5</td>\n",
       "    </tr>\n",
       "  </tbody>\n",
       "</table>\n",
       "</div>"
      ],
      "text/plain": [
       "    Old   New\n",
       "0  89.5  89.5\n",
       "1  90.0  91.5\n",
       "2  91.0  91.0\n",
       "3  91.5  89.0\n",
       "4  92.5  91.5"
      ]
     },
     "execution_count": 33,
     "metadata": {},
     "output_type": "execute_result"
    }
   ],
   "source": [
    "# Explore the dataset\n",
    "data4.head()"
   ]
  },
  {
   "cell_type": "code",
   "execution_count": 34,
   "id": "f7267712",
   "metadata": {},
   "outputs": [
    {
     "name": "stdout",
     "output_type": "stream",
     "text": [
      "<class 'pandas.core.frame.DataFrame'>\n",
      "RangeIndex: 10 entries, 0 to 9\n",
      "Data columns (total 2 columns):\n",
      " #   Column  Non-Null Count  Dtype  \n",
      "---  ------  --------------  -----  \n",
      " 0   Old     10 non-null     float64\n",
      " 1   New     10 non-null     float64\n",
      "dtypes: float64(2)\n",
      "memory usage: 288.0 bytes\n"
     ]
    }
   ],
   "source": [
    "#Check the info of dataset\n",
    "data4.info()"
   ]
  },
  {
   "cell_type": "markdown",
   "id": "7ce4072b",
   "metadata": {},
   "source": [
    "We copy the required fields to new variable."
   ]
  },
  {
   "cell_type": "code",
   "execution_count": 35,
   "id": "1e791171",
   "metadata": {},
   "outputs": [],
   "source": [
    "old = data4['Old']\n",
    "new = data4['New']"
   ]
  },
  {
   "cell_type": "code",
   "execution_count": 36,
   "id": "9a6bb434",
   "metadata": {},
   "outputs": [],
   "source": [
    "# We perform t test\n",
    "test4 = stats.ttest_ind(old,new)"
   ]
  },
  {
   "cell_type": "code",
   "execution_count": 37,
   "id": "bf83029e",
   "metadata": {},
   "outputs": [
    {
     "data": {
      "text/plain": [
       "-0.20365326999062763"
      ]
     },
     "execution_count": 37,
     "metadata": {},
     "output_type": "execute_result"
    }
   ],
   "source": [
    "# test statistic\n",
    "test4[0]"
   ]
  },
  {
   "cell_type": "code",
   "execution_count": 38,
   "id": "67ebb5a3",
   "metadata": {},
   "outputs": [
    {
     "data": {
      "text/plain": [
       "0.8409091277398291"
      ]
     },
     "execution_count": 38,
     "metadata": {},
     "output_type": "execute_result"
    }
   ],
   "source": [
    "# p value\n",
    "test4[1]"
   ]
  },
  {
   "cell_type": "markdown",
   "id": "cd269dc9",
   "metadata": {},
   "source": [
    "As p value >0.05 we accept the Null Hypothesis."
   ]
  },
  {
   "cell_type": "markdown",
   "id": "fd4443b3",
   "metadata": {},
   "source": [
    "## 3. Paired t test\n",
    "\n",
    "A special case of two sample t test\n",
    "\n",
    "When observations on two groups are collected in pairs\n",
    "\n",
    "Each pair of observation is taken under homogeneous condition (Other things remaining same)\n",
    "\n",
    "Procecure:\n",
    "\n",
    "compute d: difference in paired observations\n",
    "\n",
    "Let the difference in mean be muD = mu1 - mu2\n",
    "\n",
    "H0: muD = 0\n",
    "H1: muD !=0\n",
    "\n",
    "test statistic t0 = d bar/ (Sd/ sqrt n)\n",
    "\n",
    "Reject H0 if p<0.05\n"
   ]
  },
  {
   "cell_type": "markdown",
   "id": "b259fb1c",
   "metadata": {},
   "source": [
    "**Example 5**"
   ]
  },
  {
   "cell_type": "markdown",
   "id": "4f0d2b67",
   "metadata": {},
   "source": [
    "Two brands of tyres are being tested. He assigns one tyre of each brand at random to the rear wheel of eight cars untl the tyre wears out. Does both brands have equal mean life?\n",
    "Data is given in Tires.csv"
   ]
  },
  {
   "cell_type": "markdown",
   "id": "57b180be",
   "metadata": {},
   "source": [
    "H0: Mean of brand1 tyre life = Mean of brand2 tyre life\n",
    "\n",
    "H1: Mean of brand1 tyre life != Mean of brand2 tyre life"
   ]
  },
  {
   "cell_type": "code",
   "execution_count": 4,
   "id": "f631602f",
   "metadata": {},
   "outputs": [],
   "source": [
    "#Import the dataset\n",
    "data5 = pd.read_csv('Tires.csv')"
   ]
  },
  {
   "cell_type": "code",
   "execution_count": 5,
   "id": "06eedc15",
   "metadata": {},
   "outputs": [
    {
     "data": {
      "text/html": [
       "<div>\n",
       "<style scoped>\n",
       "    .dataframe tbody tr th:only-of-type {\n",
       "        vertical-align: middle;\n",
       "    }\n",
       "\n",
       "    .dataframe tbody tr th {\n",
       "        vertical-align: top;\n",
       "    }\n",
       "\n",
       "    .dataframe thead th {\n",
       "        text-align: right;\n",
       "    }\n",
       "</style>\n",
       "<table border=\"1\" class=\"dataframe\">\n",
       "  <thead>\n",
       "    <tr style=\"text-align: right;\">\n",
       "      <th></th>\n",
       "      <th>Brand 1</th>\n",
       "      <th>Brand 2</th>\n",
       "    </tr>\n",
       "  </thead>\n",
       "  <tbody>\n",
       "    <tr>\n",
       "      <th>0</th>\n",
       "      <td>36925</td>\n",
       "      <td>34318</td>\n",
       "    </tr>\n",
       "    <tr>\n",
       "      <th>1</th>\n",
       "      <td>45300</td>\n",
       "      <td>42280</td>\n",
       "    </tr>\n",
       "    <tr>\n",
       "      <th>2</th>\n",
       "      <td>36240</td>\n",
       "      <td>35500</td>\n",
       "    </tr>\n",
       "    <tr>\n",
       "      <th>3</th>\n",
       "      <td>32100</td>\n",
       "      <td>31950</td>\n",
       "    </tr>\n",
       "    <tr>\n",
       "      <th>4</th>\n",
       "      <td>37210</td>\n",
       "      <td>38015</td>\n",
       "    </tr>\n",
       "  </tbody>\n",
       "</table>\n",
       "</div>"
      ],
      "text/plain": [
       "   Brand 1   Brand 2 \n",
       "0     36925     34318\n",
       "1     45300     42280\n",
       "2     36240     35500\n",
       "3     32100     31950\n",
       "4     37210     38015"
      ]
     },
     "execution_count": 5,
     "metadata": {},
     "output_type": "execute_result"
    }
   ],
   "source": [
    "#Explore the data\n",
    "data5.head()"
   ]
  },
  {
   "cell_type": "code",
   "execution_count": 6,
   "id": "52e5ce57",
   "metadata": {},
   "outputs": [],
   "source": [
    "#Copy the fields into new variables\n",
    "b1 = data5.iloc[:,0]\n",
    "b2 = data5.iloc[:,1]"
   ]
  },
  {
   "cell_type": "code",
   "execution_count": 7,
   "id": "dd690826",
   "metadata": {},
   "outputs": [],
   "source": [
    "# Paired t test\n",
    "test5 = stats.ttest_rel(b1,b2)"
   ]
  },
  {
   "cell_type": "code",
   "execution_count": 8,
   "id": "e028a914",
   "metadata": {},
   "outputs": [
    {
     "data": {
      "text/plain": [
       "1.903932074206155"
      ]
     },
     "execution_count": 8,
     "metadata": {},
     "output_type": "execute_result"
    }
   ],
   "source": [
    "# Test statistic\n",
    "test5[0]"
   ]
  },
  {
   "cell_type": "code",
   "execution_count": 9,
   "id": "19465d8d",
   "metadata": {},
   "outputs": [
    {
     "data": {
      "text/plain": [
       "0.09863400041070944"
      ]
     },
     "execution_count": 9,
     "metadata": {},
     "output_type": "execute_result"
    }
   ],
   "source": [
    "# p value\n",
    "test5[1]"
   ]
  },
  {
   "cell_type": "markdown",
   "id": "1e5255fc",
   "metadata": {},
   "source": [
    "p>0.05.\n",
    "So, H0 can't be rejected. On an average both tyres have same life."
   ]
  },
  {
   "cell_type": "markdown",
   "id": "7e2d535e",
   "metadata": {},
   "source": [
    "**Exercise 6**\n"
   ]
  },
  {
   "cell_type": "markdown",
   "id": "b36fdda5",
   "metadata": {},
   "source": [
    "Ten individuals have participated in a diet modification program to stimulate weight loss. Their weights(kg) both before and after participation in program is given in Diet.csv. On an average is the program successful?"
   ]
  },
  {
   "cell_type": "markdown",
   "id": "765d504e",
   "metadata": {},
   "source": [
    "H0: Mean of weight before = Mean of weight after\n",
    "\n",
    "H0: Mean of weight before != Mean of weight after"
   ]
  },
  {
   "cell_type": "code",
   "execution_count": 11,
   "id": "17c3424c",
   "metadata": {},
   "outputs": [],
   "source": [
    "#Import the dataset\n",
    "data6 = pd.read_csv('Diet.csv')"
   ]
  },
  {
   "cell_type": "code",
   "execution_count": 12,
   "id": "6caf2243",
   "metadata": {},
   "outputs": [
    {
     "data": {
      "text/html": [
       "<div>\n",
       "<style scoped>\n",
       "    .dataframe tbody tr th:only-of-type {\n",
       "        vertical-align: middle;\n",
       "    }\n",
       "\n",
       "    .dataframe tbody tr th {\n",
       "        vertical-align: top;\n",
       "    }\n",
       "\n",
       "    .dataframe thead th {\n",
       "        text-align: right;\n",
       "    }\n",
       "</style>\n",
       "<table border=\"1\" class=\"dataframe\">\n",
       "  <thead>\n",
       "    <tr style=\"text-align: right;\">\n",
       "      <th></th>\n",
       "      <th>Subject</th>\n",
       "      <th>Before</th>\n",
       "      <th>After</th>\n",
       "    </tr>\n",
       "  </thead>\n",
       "  <tbody>\n",
       "    <tr>\n",
       "      <th>0</th>\n",
       "      <td>1</td>\n",
       "      <td>88</td>\n",
       "      <td>85</td>\n",
       "    </tr>\n",
       "    <tr>\n",
       "      <th>1</th>\n",
       "      <td>2</td>\n",
       "      <td>97</td>\n",
       "      <td>88</td>\n",
       "    </tr>\n",
       "    <tr>\n",
       "      <th>2</th>\n",
       "      <td>3</td>\n",
       "      <td>112</td>\n",
       "      <td>100</td>\n",
       "    </tr>\n",
       "    <tr>\n",
       "      <th>3</th>\n",
       "      <td>4</td>\n",
       "      <td>91</td>\n",
       "      <td>86</td>\n",
       "    </tr>\n",
       "    <tr>\n",
       "      <th>4</th>\n",
       "      <td>5</td>\n",
       "      <td>85</td>\n",
       "      <td>79</td>\n",
       "    </tr>\n",
       "  </tbody>\n",
       "</table>\n",
       "</div>"
      ],
      "text/plain": [
       "   Subject   Before   After \n",
       "0         1       88      85\n",
       "1         2       97      88\n",
       "2         3      112     100\n",
       "3         4       91      86\n",
       "4         5       85      79"
      ]
     },
     "execution_count": 12,
     "metadata": {},
     "output_type": "execute_result"
    }
   ],
   "source": [
    "#Explore the data\n",
    "data6.head()"
   ]
  },
  {
   "cell_type": "code",
   "execution_count": 13,
   "id": "2cffcf69",
   "metadata": {},
   "outputs": [],
   "source": [
    "#Copy the fields into new variables\n",
    "w1 = data6.iloc[:,1]\n",
    "w2 = data6.iloc[:,2]"
   ]
  },
  {
   "cell_type": "code",
   "execution_count": 14,
   "id": "8d765cad",
   "metadata": {},
   "outputs": [],
   "source": [
    "# Paired t test\n",
    "test6 = stats.ttest_rel(w1,w2)"
   ]
  },
  {
   "cell_type": "code",
   "execution_count": 15,
   "id": "9206fba8",
   "metadata": {},
   "outputs": [
    {
     "data": {
      "text/plain": [
       "7.912565680749444"
      ]
     },
     "execution_count": 15,
     "metadata": {},
     "output_type": "execute_result"
    }
   ],
   "source": [
    "# Test statistic\n",
    "test6[0]"
   ]
  },
  {
   "cell_type": "code",
   "execution_count": 16,
   "id": "e25a6957",
   "metadata": {
    "scrolled": true
   },
   "outputs": [
    {
     "data": {
      "text/plain": [
       "2.416349183463257e-05"
      ]
     },
     "execution_count": 16,
     "metadata": {},
     "output_type": "execute_result"
    }
   ],
   "source": [
    "# p value\n",
    "test6[1]"
   ]
  },
  {
   "cell_type": "markdown",
   "id": "d803d100",
   "metadata": {},
   "source": [
    "p value <0.05. We can reject the null hypothesis and conclude that there is weight loss after the diet program"
   ]
  }
 ],
 "metadata": {
  "kernelspec": {
   "display_name": "Python 3 (ipykernel)",
   "language": "python",
   "name": "python3"
  },
  "language_info": {
   "codemirror_mode": {
    "name": "ipython",
    "version": 3
   },
   "file_extension": ".py",
   "mimetype": "text/x-python",
   "name": "python",
   "nbconvert_exporter": "python",
   "pygments_lexer": "ipython3",
   "version": "3.9.12"
  }
 },
 "nbformat": 4,
 "nbformat_minor": 5
}
